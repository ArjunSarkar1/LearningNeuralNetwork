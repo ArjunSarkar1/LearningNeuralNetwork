{
 "cells": [
  {
   "cell_type": "markdown",
   "metadata": {},
   "source": [
    "# UM AI Workshop"
   ]
  },
  {
   "cell_type": "markdown",
   "metadata": {},
   "source": [
    "# What's a Neural Network?\n",
    "- A neural network is a type of machine learning model that's inspired by the structure and function of the brain.\n",
    "- It's composed of layers of interconnected nodes or \"neurons\" that process and transmit information.\n",
    "- Each node applies a non-linear transformation to the input it receives, allowing the network to learn complex patterns.\n",
    "\n",
    "## Input Layer\n",
    "- The first layer receives raw data\n",
    "- Each node in this layer is connected to every node in the next layer\n",
    "- Each node in this layer is called a neuron\n",
    "- Each neuron applies an activation function to the weighted sum of its inputs\n",
    "- The output of each neuron is passed to the next layer\n",
    "- The output of the last layer is the prediction\n",
    "- The prediction is compared to the actual output\n",
    "- The difference between the prediction and the actual output is called the error\n",
    "- The error is used to adjust the weights of the connections between the neurons\n",
    "- This process is repeated until the error is minimized\n",
    "- The weights are adjusted using an optimization algorithm such as stochastic gradient descent\n",
    "- The optimization algorithm adjusts the weights to minimize the error\n",
    "- The process is repeated until the error is minimized\n",
    "- The final weights are used to make predictions\n",
    "\n",
    "## Hidden Layers\n",
    "- These layers process the data and learn patterns\n",
    "- Each layer has multiple nodes (neurons) that perform calculations\n",
    "\n",
    "## Output Layer\n",
    "- This layer produces the final prediction\n",
    "- Each node represents a possible outcome\n",
    "\n",
    "## Batching\n",
    "- Batching is a technique used to improve the efficiency of training neural networks\n",
    "- Instead of training the network on one example at a time, the network is trained on a batch\n",
    "- A batch is a group of examples\n",
    "- The network is trained on the batch and then the weights are updated\n",
    "- This process is repeated until the error is minimized\n",
    "- Batching can improve the efficiency of training by reducing the number of updates to the weights\n",
    "- Batching can also improve the stability of the training process\n",
    "\n",
    "## Overfitting\n",
    "- Overfitting occurs when a model is too complex and fits the training data too well\n",
    "- Overfitting can result in poor performance on new, unseen data\n",
    "- Regularization techniques can be used to prevent overfitting\n",
    "- Regularization techniques include dropout, L1 and L2 regularization, and early stopping\n",
    "\n"
   ]
  },
  {
   "cell_type": "code",
   "execution_count": null,
   "metadata": {},
   "outputs": [],
   "source": []
  }
 ],
 "metadata": {
  "kernelspec": {
   "display_name": "Python 3",
   "language": "python",
   "name": "python3"
  },
  "language_info": {
   "codemirror_mode": {
    "name": "ipython",
    "version": 3
   },
   "file_extension": ".py",
   "mimetype": "text/x-python",
   "name": "python",
   "nbconvert_exporter": "python",
   "pygments_lexer": "ipython3",
   "version": "3.12.1"
  },
  "orig_nbformat": 4
 },
 "nbformat": 4,
 "nbformat_minor": 2
}
